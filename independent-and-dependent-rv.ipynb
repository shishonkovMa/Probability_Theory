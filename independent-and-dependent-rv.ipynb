{
 "cells": [
  {
   "cell_type": "markdown",
   "metadata": {},
   "source": [
    "# Probability\n",
    "## Generating independent and dependent random variables\n",
    "In this assignment we will discuss how to generate independent random variables in Python to understand these notions deeper.\n",
    "\n",
    "### Preliminaries\n",
    "We need this function to test our generators."
   ]
  },
  {
   "cell_type": "code",
   "execution_count": 21,
   "metadata": {},
   "outputs": [],
   "source": [
    "def count_frequencies(data, relative=False):\n",
    "    counter = {}\n",
    "    for element in data:\n",
    "        if element not in counter:\n",
    "            counter[element] = 1\n",
    "        else:\n",
    "            counter[element] += 1\n",
    "    if relative:\n",
    "        for element in counter:\n",
    "            counter[element] /= len(data)\n",
    "    return counter"
   ]
  },
  {
   "cell_type": "markdown",
   "metadata": {},
   "source": [
    "### Independent random variables: PMF calculation\n",
    "Consider random variables $X$ and $Y$. Assume that $X$ takes values $x_1, \\ldots, x_n$ with probabilities $p_1, \\ldots, p_n$ and $Y$ takes values $y_1, \\ldots, y_m$ with probabilities $q_1, \\ldots, q_m$. Assume that $X$ and $Y$ are independent. Implement function `joint_pmf(xvalues, xprobs, yvalues, yprobs)` that takes an array of values $x_1, \\ldots, x_n$ as `xvalues`, an array of probabilities $p_1, \\ldots, p_n$ as  `xprobs` and the same with `yvalues` and `yprobs`. The function should return a dictionary which keys are tuples `(x, y)` where `x` is some value $x_i$ and `y` is $y_j$ and corresponding values are values of joint probability mass function $pmf_{X, Y}(x_i, y_j)$."
   ]
  },
  {
   "cell_type": "code",
   "execution_count": 22,
   "metadata": {
    "deletable": false,
    "nbgrader": {
     "cell_type": "code",
     "checksum": "44794bd81b6995fe9f831c6309a0ab55",
     "grade": false,
     "grade_id": "cell-6c6fca4963fa838f",
     "locked": false,
     "schema_version": 3,
     "solution": true,
     "task": false
    }
   },
   "outputs": [],
   "source": [
    "def joint_pmf(xvalues, xprobs, yvalues, yprobs):\n",
    "    answers = dict()\n",
    "    \n",
    "    for i in range(len(xvalues)):\n",
    "        for j in range(len(yvalues)):\n",
    "            answers[(xvalues[i], yvalues[j])] = xprobs[i] * yprobs[j]\n",
    "    \n",
    "    return answers"
   ]
  },
  {
   "cell_type": "code",
   "execution_count": 23,
   "metadata": {
    "deletable": false,
    "editable": false,
    "nbgrader": {
     "cell_type": "code",
     "checksum": "42d09a6634d6c108a5a5d95254a4bfbe",
     "grade": true,
     "grade_id": "cell-c10c718141f0f314",
     "locked": true,
     "points": 1,
     "schema_version": 3,
     "solution": false,
     "task": false
    }
   },
   "outputs": [],
   "source": [
    "testdata = [([1], [1], [2, 3], [0.2, 0.8]),\n",
    "            ([1, 2], [0.5, 0.5], [3, 4, 5], [0.3, 0.3, 0.4])]\n",
    "answers = [{(1, 2): 0.2, (1, 3): 0.8},\n",
    "           {(1, 3): 0.15,\n",
    "            (1, 4): 0.15,\n",
    "            (1, 5): 0.2,\n",
    "            (2, 3): 0.15,\n",
    "            (2, 4): 0.15,\n",
    "            (2, 5): 0.2}]\n",
    "for data, answer in zip(testdata, answers):\n",
    "    assert joint_pmf(*data) == answer"
   ]
  },
  {
   "cell_type": "markdown",
   "metadata": {},
   "source": [
    "### Independent random variables: generation\n",
    "Implement function `indep_choice(xvalues, xprobs, yvalues, yprobs)` that samples value `x` from random variable $X$ (here `xvalues` is an array of values $x_1, \\ldots, x_n$ and `xprobs` is an array of probabilities $p_1, \\ldots, p_n$) and value `y` from random variable $Y$ (here `yvalues` is an array of values $y_1, \\ldots, y_m$ and `yprobs` is an array of probabilities $q_1, \\ldots, q_m$) and returns a tuple `(x, y)`. Use `numpy.choice` in each case. "
   ]
  },
  {
   "cell_type": "code",
   "execution_count": 24,
   "metadata": {
    "deletable": false,
    "nbgrader": {
     "cell_type": "code",
     "checksum": "044e42f39629d5be7d2cf8455f0597fc",
     "grade": false,
     "grade_id": "cell-0f42fad3354a3723",
     "locked": false,
     "schema_version": 3,
     "solution": true,
     "task": false
    }
   },
   "outputs": [],
   "source": [
    "from numpy.random import choice\n",
    "\n",
    "def indep_choice(xvalues, xprobs, yvalues, yprobs):\n",
    "    return (choice(xvalues, p=xprobs), choice(yvalues, p=yprobs))"
   ]
  },
  {
   "cell_type": "markdown",
   "metadata": {},
   "source": [
    "Now let us generate a large sample of these values and compare relative frequencies of each combination with corresponding value of PMF."
   ]
  },
  {
   "cell_type": "code",
   "execution_count": 25,
   "metadata": {},
   "outputs": [
    {
     "name": "stdout",
     "output_type": "stream",
     "text": [
      "Obtained relative frequencies\n",
      "(0, 5): 0.0759\n",
      "(0, 6): 0.1199\n",
      "(1, 5): 0.2021\n",
      "(1, 6): 0.3086\n",
      "(2, 5): 0.1149\n",
      "(2, 6): 0.1786\n",
      "\n",
      "Values of probability mass function\n",
      "(0, 5): 0.08000000000000002\n",
      "(0, 6): 0.12\n",
      "(1, 5): 0.2\n",
      "(1, 6): 0.3\n",
      "(2, 5): 0.12\n",
      "(2, 6): 0.18\n"
     ]
    }
   ],
   "source": [
    "xvalues = [0, 1, 2]\n",
    "xprobs = [0.2, 0.5, 0.3]\n",
    "\n",
    "yvalues = [5, 6]\n",
    "yprobs = [0.4, 0.6]\n",
    "\n",
    "size = 10000\n",
    "\n",
    "sample = [indep_choice(xvalues, xprobs, yvalues, yprobs) \n",
    "          for _ in range(size)] \n",
    "\n",
    "def print_sorted_keys(dictionary):\n",
    "    for k in sorted(dictionary):\n",
    "        print(f\"{k}: {dictionary[k]}\")\n",
    "\n",
    "print(\"Obtained relative frequencies\")\n",
    "print_sorted_keys(count_frequencies(sample, relative=True))\n",
    "\n",
    "print(\"\\nValues of probability mass function\")\n",
    "print_sorted_keys(joint_pmf(xvalues, xprobs, yvalues, yprobs))"
   ]
  },
  {
   "cell_type": "markdown",
   "metadata": {},
   "source": [
    "### Dependent random variables: probability mass function\n",
    "Consider system $(X, Y)$ of random variables, defined in the following way. Let $X$ be Bernoulli random variable with parameter $p$, i.e. random variable that takes value 1 with probability $p$ and value $0$ with probability $1-p$. Assume also that $Y$ takes values 0 and 1 as well, and $P(Y=1\\mid X = 0) = q_0$ and $P(Y=1 \\mid X = 1) = q_1$. Implement function `dependent_bernoulli_pmf(p, q0, q1)` that generates dictionary with joint probability mass function (like in the first problem)."
   ]
  },
  {
   "cell_type": "code",
   "execution_count": 26,
   "metadata": {
    "deletable": false,
    "nbgrader": {
     "cell_type": "code",
     "checksum": "ffec3c329b6b32aed2c23601047d270f",
     "grade": false,
     "grade_id": "cell-8c4b3dec05592d73",
     "locked": false,
     "schema_version": 3,
     "solution": true,
     "task": false
    }
   },
   "outputs": [],
   "source": [
    "def dependent_bernoulli_pmf(p, q0, q1):\n",
    "   \n",
    "    answers = dict()\n",
    "    answers[(0, 0)] = (1-p)*(1-q0)\n",
    "    answers[(0, 1)] = q0*(1-p)\n",
    "    answers[(1, 0)] = p*(1-q1)\n",
    "    answers[(1, 1)] = p*q1\n",
    "    \n",
    "    print(answers)\n",
    "    \n",
    "    return answers"
   ]
  },
  {
   "cell_type": "code",
   "execution_count": 27,
   "metadata": {
    "deletable": false,
    "editable": false,
    "nbgrader": {
     "cell_type": "code",
     "checksum": "2b6c1a561311216764c18c4c98937006",
     "grade": true,
     "grade_id": "cell-e005a56586ccdfb7",
     "locked": true,
     "points": 1,
     "schema_version": 3,
     "solution": false,
     "task": false
    }
   },
   "outputs": [
    {
     "name": "stdout",
     "output_type": "stream",
     "text": [
      "{(0, 0): 0.65625, (0, 1): 0.09375, (1, 0): 0.1875, (1, 1): 0.0625}\n"
     ]
    }
   ],
   "source": [
    "assert dependent_bernoulli_pmf(0.25, 0.125, 0.25) == {(0, 0): 0.65625, \n",
    "                                                      (0, 1): 0.09375, \n",
    "                                                      (1, 0): 0.1875, \n",
    "                                                      (1, 1): 0.0625}"
   ]
  },
  {
   "cell_type": "markdown",
   "metadata": {},
   "source": [
    "### Dependent random variables: generation\n",
    "\n",
    "Implement function `dependent_bernoulli(p, q0, q1)` that generates a pair `(x, y)` that is a sample from a system $(X, Y)$ of random variables, described above."
   ]
  },
  {
   "cell_type": "code",
   "execution_count": 28,
   "metadata": {
    "deletable": false,
    "nbgrader": {
     "cell_type": "code",
     "checksum": "c17b8eb01485a4871d6e1438c9715e2d",
     "grade": false,
     "grade_id": "cell-00b740076b771cee",
     "locked": false,
     "schema_version": 3,
     "solution": true,
     "task": false
    }
   },
   "outputs": [],
   "source": [
    "def dependent_bernoulli(p, q0, q1):\n",
    "    values = [0, 1] \n",
    "    \n",
    "    xprobs = [1 - p, p]\n",
    "    \n",
    "    x = choice(values, p=xprobs)\n",
    "    \n",
    "    if x == 0:\n",
    "        yprobs = [1-q0, q0]\n",
    "    else:\n",
    "        yprobs = [1-q1, q1]\n",
    "        \n",
    "    y = choice(values, p=yprobs)\n",
    "    return (x, y)"
   ]
  },
  {
   "cell_type": "code",
   "execution_count": 29,
   "metadata": {},
   "outputs": [
    {
     "name": "stdout",
     "output_type": "stream",
     "text": [
      "Obtained relative frequencies\n",
      "(0, 0): 0.6542\n",
      "(0, 1): 0.0947\n",
      "(1, 0): 0.1891\n",
      "(1, 1): 0.062\n",
      "\n",
      "Values of probability mass function\n",
      "{(0, 0): 0.65625, (0, 1): 0.09375, (1, 0): 0.1875, (1, 1): 0.0625}\n",
      "(0, 0): 0.65625\n",
      "(0, 1): 0.09375\n",
      "(1, 0): 0.1875\n",
      "(1, 1): 0.0625\n"
     ]
    }
   ],
   "source": [
    "def test_dependent(p, q0, q1, size):\n",
    "    sample = [dependent_bernoulli(p, q0, q1) for _ in range(size)]\n",
    "\n",
    "    print(\"Obtained relative frequencies\")\n",
    "    print_sorted_keys(count_frequencies(sample, relative=True))\n",
    "\n",
    "    print(\"\\nValues of probability mass function\")\n",
    "    print_sorted_keys(dependent_bernoulli_pmf(p, q0, q1))\n",
    "    \n",
    "test_dependent(0.25, 0.125, 0.25, 10000)"
   ]
  },
  {
   "cell_type": "code",
   "execution_count": 30,
   "metadata": {},
   "outputs": [
    {
     "name": "stdout",
     "output_type": "stream",
     "text": [
      "Obtained relative frequencies\n",
      "(0, 0): 0.4365\n",
      "(0, 1): 0.0642\n",
      "(1, 0): 0.1231\n",
      "(1, 1): 0.3762\n",
      "\n",
      "Values of probability mass function\n",
      "{(0, 0): 0.4375, (0, 1): 0.0625, (1, 0): 0.125, (1, 1): 0.375}\n",
      "(0, 0): 0.4375\n",
      "(0, 1): 0.0625\n",
      "(1, 0): 0.125\n",
      "(1, 1): 0.375\n"
     ]
    }
   ],
   "source": [
    "test_dependent(0.5, 0.125, 0.75, 10000)"
   ]
  }
 ],
 "metadata": {
  "kernelspec": {
   "display_name": "Python 3",
   "language": "python",
   "name": "python3"
  },
  "language_info": {
   "codemirror_mode": {
    "name": "ipython",
    "version": 3
   },
   "file_extension": ".py",
   "mimetype": "text/x-python",
   "name": "python",
   "nbconvert_exporter": "python",
   "pygments_lexer": "ipython3",
   "version": "3.8.10"
  }
 },
 "nbformat": 4,
 "nbformat_minor": 4
}
